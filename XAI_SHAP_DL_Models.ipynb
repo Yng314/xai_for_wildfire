{
 "cells": [
  {
   "cell_type": "markdown",
   "metadata": {},
   "source": [
    "This notebook is for PCA operations on the original Wildfire dataset"
   ]
  },
  {
   "cell_type": "markdown",
   "metadata": {},
   "source": [
    "# Import Lib"
   ]
  },
  {
   "cell_type": "code",
   "execution_count": 1,
   "metadata": {},
   "outputs": [],
   "source": [
    "import dataset\n",
    "from tensorflow import estimator as tf_estimator\n",
    "import models.losses as losses\n",
    "import tensorflow as tf\n",
    "from models.metrics import *\n",
    "import models.cnn_autoencoder_model as cnnmodel\n",
    "from tensorflow.keras.layers import *\n",
    "from tensorflow.keras.models import Model\n",
    "from tensorflow.keras.callbacks import EarlyStopping\n",
    "import numpy as np\n",
    "from sklearn.decomposition import PCA\n",
    "import xgboost as xgb"
   ]
  },
  {
   "cell_type": "markdown",
   "metadata": {},
   "source": [
    "# Load Dataset"
   ]
  },
  {
   "cell_type": "code",
   "execution_count": 2,
   "metadata": {},
   "outputs": [],
   "source": [
    "hparams = {\n",
    "    # 数据路径\n",
    "    'train_path': '../dataset/next_day_wildfire_spread_train*',\n",
    "    'eval_path': '../dataset/next_day_wildfire_spread_eval*',\n",
    "    'test_path': '../dataset/next_day_wildfire_spread_test*',\n",
    "    \n",
    "    # 特征\n",
    "    'input_features': ['elevation', 'pdsi', 'NDVI', 'pr', 'sph', 'th', 'tmmn',\n",
    "                  'tmmx', 'vs', 'erc', 'population', 'PrevFireMask'],\n",
    "    'output_features': ['FireMask'],\n",
    "    \n",
    "    # 方位通道\n",
    "    'azimuth_in_channel': None,\n",
    "    'azimuth_out_channel': None,\n",
    "    \n",
    "    # 数据和模型参数\n",
    "    'data_sample_size': 64,\n",
    "    'sample_size': 32,\n",
    "    'output_sample_size': 32,\n",
    "    'batch_size': 128,\n",
    "    'shuffle': False,\n",
    "    'shuffle_buffer_size': 10000,\n",
    "    'compression_type': None,\n",
    "    'input_sequence_length': 1,\n",
    "    'output_sequence_length': 1,\n",
    "    'repeat': False,\n",
    "    'clip_and_normalize': True,\n",
    "    'clip_and_rescale': False,\n",
    "    \n",
    "    # 数据增强\n",
    "    'random_flip': False,\n",
    "    'random_rotate': False,\n",
    "    'random_crop': False,\n",
    "    'center_crop': True,\n",
    "    \n",
    "    # 其他参数\n",
    "    'downsample_threshold': 0.0,\n",
    "    'binarize_output': True\n",
    "}\n",
    "\n",
    "train_dataset = dataset.make_dataset(\n",
    "    hparams,\n",
    "    mode = tf_estimator.ModeKeys.TRAIN\n",
    ")\n",
    "val_dataset = dataset.make_dataset(\n",
    "    hparams,\n",
    "    mode = tf_estimator.ModeKeys.EVAL\n",
    ")\n",
    "test_dataset = dataset.make_dataset(\n",
    "    hparams,\n",
    "    mode = tf_estimator.ModeKeys.PREDICT\n",
    ")"
   ]
  },
  {
   "cell_type": "code",
   "execution_count": 3,
   "metadata": {},
   "outputs": [],
   "source": [
    "def dataset_to_numpy(dataset):\n",
    "    features_list = []\n",
    "    labels_list = []\n",
    "    for features, label in dataset:\n",
    "        features_list.append(features.numpy())  # 提取特征并转换为 NumPy 数组\n",
    "        labels_list.append(label.numpy())       # 提取标签并转换为 NumPy 数组\n",
    "    return np.vstack(features_list), np.concatenate(labels_list)\n",
    "\n",
    "# 转换数据集\n",
    "train_x, train_y = dataset_to_numpy(train_dataset)\n",
    "val_x, val_y = dataset_to_numpy(val_dataset)\n",
    "test_x, test_y = dataset_to_numpy(test_dataset)\n",
    "\n",
    "train_y[train_y == -1] = 0\n",
    "val_y[val_y == -1] = 0\n",
    "test_y[test_y == -1] = 0"
   ]
  },
  {
   "cell_type": "code",
   "execution_count": 4,
   "metadata": {},
   "outputs": [
    {
     "data": {
      "text/plain": [
       "(14979, 12288)"
      ]
     },
     "execution_count": 4,
     "metadata": {},
     "output_type": "execute_result"
    }
   ],
   "source": [
    "train_x.reshape(train_x.shape[0], -1).shape"
   ]
  },
  {
   "cell_type": "markdown",
   "metadata": {},
   "source": [
    "# PCA"
   ]
  },
  {
   "cell_type": "code",
   "execution_count": 6,
   "metadata": {},
   "outputs": [],
   "source": [
    "early_stopping = EarlyStopping(\n",
    "    monitor='val_loss',\n",
    "    patience=30,\n",
    "    restore_best_weights=True,\n",
    ")"
   ]
  },
  {
   "cell_type": "code",
   "execution_count": 8,
   "metadata": {},
   "outputs": [
    {
     "name": "stdout",
     "output_type": "stream",
     "text": [
      "Epoch 1/100\n",
      "469/469 [==============================] - 49s 17ms/step - loss: 0.1848 - auc_with_masked_class: 0.2054 - val_loss: 0.2060 - val_auc_with_masked_class: 0.2172\n",
      "Epoch 2/100\n",
      "469/469 [==============================] - 7s 15ms/step - loss: 0.1483 - auc_with_masked_class: 0.3102 - val_loss: 0.1866 - val_auc_with_masked_class: 0.2626\n",
      "Epoch 3/100\n",
      "469/469 [==============================] - 7s 15ms/step - loss: 0.1415 - auc_with_masked_class: 0.3392 - val_loss: 0.1870 - val_auc_with_masked_class: 0.2803\n",
      "Epoch 4/100\n",
      "469/469 [==============================] - 7s 15ms/step - loss: 0.1375 - auc_with_masked_class: 0.3575 - val_loss: 0.2076 - val_auc_with_masked_class: 0.2626\n",
      "Epoch 5/100\n",
      "469/469 [==============================] - 7s 15ms/step - loss: 0.1350 - auc_with_masked_class: 0.3709 - val_loss: 0.1902 - val_auc_with_masked_class: 0.2874\n",
      "Epoch 6/100\n",
      "469/469 [==============================] - 7s 15ms/step - loss: 0.1325 - auc_with_masked_class: 0.3813 - val_loss: 0.1987 - val_auc_with_masked_class: 0.2966\n",
      "Epoch 7/100\n",
      "469/469 [==============================] - 7s 15ms/step - loss: 0.1303 - auc_with_masked_class: 0.3948 - val_loss: 0.1998 - val_auc_with_masked_class: 0.3016\n",
      "Epoch 8/100\n",
      "469/469 [==============================] - 7s 15ms/step - loss: 0.1294 - auc_with_masked_class: 0.4009 - val_loss: 0.2141 - val_auc_with_masked_class: 0.2877\n",
      "Epoch 9/100\n",
      "469/469 [==============================] - 7s 15ms/step - loss: 0.1277 - auc_with_masked_class: 0.4094 - val_loss: 0.2017 - val_auc_with_masked_class: 0.3055\n",
      "Epoch 10/100\n",
      "469/469 [==============================] - 7s 15ms/step - loss: 0.1263 - auc_with_masked_class: 0.4189 - val_loss: 0.2053 - val_auc_with_masked_class: 0.2836\n",
      "Epoch 11/100\n",
      "469/469 [==============================] - 7s 15ms/step - loss: 0.1253 - auc_with_masked_class: 0.4252 - val_loss: 0.1938 - val_auc_with_masked_class: 0.3062\n",
      "Epoch 12/100\n",
      "469/469 [==============================] - 7s 15ms/step - loss: 0.1243 - auc_with_masked_class: 0.4321 - val_loss: 0.1842 - val_auc_with_masked_class: 0.3103\n",
      "Epoch 13/100\n",
      "469/469 [==============================] - 7s 15ms/step - loss: 0.1231 - auc_with_masked_class: 0.4387 - val_loss: 0.2012 - val_auc_with_masked_class: 0.3057\n",
      "Epoch 14/100\n",
      "469/469 [==============================] - 7s 15ms/step - loss: 0.1214 - auc_with_masked_class: 0.4497 - val_loss: 0.2027 - val_auc_with_masked_class: 0.2953\n",
      "Epoch 15/100\n",
      "469/469 [==============================] - 7s 15ms/step - loss: 0.1205 - auc_with_masked_class: 0.4551 - val_loss: 0.2032 - val_auc_with_masked_class: 0.3079\n",
      "Epoch 16/100\n",
      "469/469 [==============================] - 7s 15ms/step - loss: 0.1194 - auc_with_masked_class: 0.4647 - val_loss: 0.2160 - val_auc_with_masked_class: 0.2961\n",
      "Epoch 17/100\n",
      "469/469 [==============================] - 7s 15ms/step - loss: 0.1187 - auc_with_masked_class: 0.4686 - val_loss: 0.2140 - val_auc_with_masked_class: 0.2888\n",
      "Epoch 18/100\n",
      "469/469 [==============================] - 7s 15ms/step - loss: 0.1178 - auc_with_masked_class: 0.4739 - val_loss: 0.2058 - val_auc_with_masked_class: 0.2958\n",
      "Epoch 19/100\n",
      "469/469 [==============================] - 7s 15ms/step - loss: 0.1164 - auc_with_masked_class: 0.4816 - val_loss: 0.1985 - val_auc_with_masked_class: 0.3107\n",
      "Epoch 20/100\n",
      "469/469 [==============================] - 7s 15ms/step - loss: 0.1153 - auc_with_masked_class: 0.4897 - val_loss: 0.2026 - val_auc_with_masked_class: 0.3011\n",
      "Epoch 21/100\n",
      "469/469 [==============================] - 7s 15ms/step - loss: 0.1147 - auc_with_masked_class: 0.4947 - val_loss: 0.2187 - val_auc_with_masked_class: 0.2941\n",
      "Epoch 22/100\n",
      "469/469 [==============================] - 7s 15ms/step - loss: 0.1141 - auc_with_masked_class: 0.4974 - val_loss: 0.2192 - val_auc_with_masked_class: 0.2855\n",
      "Epoch 23/100\n",
      "469/469 [==============================] - 7s 15ms/step - loss: 0.1128 - auc_with_masked_class: 0.5056 - val_loss: 0.2170 - val_auc_with_masked_class: 0.3019\n",
      "Epoch 24/100\n",
      "469/469 [==============================] - 7s 15ms/step - loss: 0.1119 - auc_with_masked_class: 0.5109 - val_loss: 0.1996 - val_auc_with_masked_class: 0.3113\n",
      "Epoch 25/100\n",
      "469/469 [==============================] - 7s 15ms/step - loss: 0.1116 - auc_with_masked_class: 0.5137 - val_loss: 0.2245 - val_auc_with_masked_class: 0.2932\n",
      "Epoch 26/100\n",
      "469/469 [==============================] - 7s 15ms/step - loss: 0.1105 - auc_with_masked_class: 0.5214 - val_loss: 0.2330 - val_auc_with_masked_class: 0.2803\n",
      "Epoch 27/100\n",
      "469/469 [==============================] - 7s 15ms/step - loss: 0.1096 - auc_with_masked_class: 0.5258 - val_loss: 0.2115 - val_auc_with_masked_class: 0.2975\n",
      "Epoch 28/100\n",
      "469/469 [==============================] - 7s 15ms/step - loss: 0.1089 - auc_with_masked_class: 0.5320 - val_loss: 0.2121 - val_auc_with_masked_class: 0.2994\n",
      "Epoch 29/100\n",
      "469/469 [==============================] - 7s 15ms/step - loss: 0.1085 - auc_with_masked_class: 0.5347 - val_loss: 0.2318 - val_auc_with_masked_class: 0.2877\n",
      "Epoch 30/100\n",
      "469/469 [==============================] - 7s 15ms/step - loss: 0.1081 - auc_with_masked_class: 0.5378 - val_loss: 0.2190 - val_auc_with_masked_class: 0.2833\n",
      "Epoch 31/100\n",
      "469/469 [==============================] - 7s 15ms/step - loss: 0.1072 - auc_with_masked_class: 0.5453 - val_loss: 0.2053 - val_auc_with_masked_class: 0.2916\n",
      "Epoch 32/100\n",
      "469/469 [==============================] - 7s 15ms/step - loss: 0.1071 - auc_with_masked_class: 0.5451 - val_loss: 0.2113 - val_auc_with_masked_class: 0.2924\n",
      "Epoch 33/100\n",
      "469/469 [==============================] - 7s 15ms/step - loss: 0.1056 - auc_with_masked_class: 0.5543 - val_loss: 0.2183 - val_auc_with_masked_class: 0.2836\n",
      "Epoch 34/100\n",
      "469/469 [==============================] - 7s 15ms/step - loss: 0.1050 - auc_with_masked_class: 0.5578 - val_loss: 0.2237 - val_auc_with_masked_class: 0.2948\n",
      "Epoch 35/100\n",
      "469/469 [==============================] - 7s 15ms/step - loss: 0.1043 - auc_with_masked_class: 0.5616 - val_loss: 0.2220 - val_auc_with_masked_class: 0.2815\n",
      "Epoch 36/100\n",
      "469/469 [==============================] - 7s 15ms/step - loss: 0.1037 - auc_with_masked_class: 0.5672 - val_loss: 0.2332 - val_auc_with_masked_class: 0.2843\n",
      "Epoch 37/100\n",
      "469/469 [==============================] - 7s 15ms/step - loss: 0.1039 - auc_with_masked_class: 0.5677 - val_loss: 0.2047 - val_auc_with_masked_class: 0.2931\n",
      "Epoch 38/100\n",
      "469/469 [==============================] - 7s 15ms/step - loss: 0.1026 - auc_with_masked_class: 0.5745 - val_loss: 0.2041 - val_auc_with_masked_class: 0.2794\n",
      "Epoch 39/100\n",
      "469/469 [==============================] - 7s 15ms/step - loss: 0.1051 - auc_with_masked_class: 0.5601 - val_loss: 0.2096 - val_auc_with_masked_class: 0.2809\n",
      "Epoch 40/100\n",
      "469/469 [==============================] - 7s 15ms/step - loss: 0.1021 - auc_with_masked_class: 0.5770 - val_loss: 0.2109 - val_auc_with_masked_class: 0.2817\n",
      "Epoch 41/100\n",
      "469/469 [==============================] - 7s 15ms/step - loss: 0.1019 - auc_with_masked_class: 0.5790 - val_loss: 0.2366 - val_auc_with_masked_class: 0.2861\n",
      "Epoch 42/100\n",
      "469/469 [==============================] - 7s 15ms/step - loss: 0.1008 - auc_with_masked_class: 0.5859 - val_loss: 0.2174 - val_auc_with_masked_class: 0.2872\n"
     ]
    }
   ],
   "source": [
    "train_y_flat = train_y.reshape(train_y.shape[0], -1)\n",
    "val_y_flat = val_y.reshape(val_y.shape[0], -1)\n",
    "test_y_flat = test_y.reshape(test_y.shape[0], -1)\n",
    "\n",
    "input_tensor = tf.keras.layers.Input((32, 32, 12))\n",
    "num_out_channels = 1\n",
    "encoder_layers = [16,32]\n",
    "decoder_layers = [32,16]\n",
    "encoder_pools = [2,2]\n",
    "decoder_pools = [2,2]\n",
    "autoencoder_model = cnnmodel.create_model(\n",
    "    input_tensor,\n",
    "    num_out_channels,\n",
    "    encoder_layers,\n",
    "    decoder_layers,\n",
    "    encoder_pools,\n",
    "    decoder_pools,\n",
    ")\n",
    "optimizer = tf.keras.optimizers.Adam(learning_rate=0.001)\n",
    "autoencoder_model.compile(optimizer=optimizer,\n",
    "              loss=losses.weighted_cross_entropy_with_logits_with_masked_class(pos_weight=2),\n",
    "              metrics=[AUCWithMaskedClass(with_logits=True)])\n",
    "history = autoencoder_model.fit(train_x, train_y_flat, epochs=100, validation_data=(val_x, val_y_flat), callbacks=[early_stopping])"
   ]
  },
  {
   "cell_type": "code",
   "execution_count": 9,
   "metadata": {},
   "outputs": [
    {
     "name": "stdout",
     "output_type": "stream",
     "text": [
      "53/53 [==============================] - 0s 6ms/step\n",
      "(1689, 1024)\n"
     ]
    }
   ],
   "source": [
    "\n",
    "# 预测\n",
    "predictions = autoencoder_model.predict(test_x)\n",
    "\n",
    "# 输出预测结果\n",
    "print(predictions.shape)"
   ]
  },
  {
   "cell_type": "code",
   "execution_count": 10,
   "metadata": {},
   "outputs": [
    {
     "name": "stdout",
     "output_type": "stream",
     "text": [
      "AUC with masked class: 0.19\n"
     ]
    }
   ],
   "source": [
    "test_y_flat = test_y.reshape(test_y.shape[0], -1)\n",
    "\n",
    "mask = test_y_flat != -1\n",
    "\n",
    "# 应用掩码\n",
    "masked_labels = test_y_flat[mask]\n",
    "masked_predictions = predictions[mask]\n",
    "\n",
    "# 计算 AUC\n",
    "auc_metric = tf.keras.metrics.AUC(curve='PR')\n",
    "auc_metric.update_state(masked_labels, masked_predictions)\n",
    "auc = auc_metric.result().numpy()\n",
    "\n",
    "print(\"AUC with masked class: %.2f\" % auc)"
   ]
  },
  {
   "cell_type": "markdown",
   "metadata": {},
   "source": [
    "# SHAP"
   ]
  },
  {
   "cell_type": "code",
   "execution_count": 15,
   "metadata": {},
   "outputs": [
    {
     "name": "stderr",
     "output_type": "stream",
     "text": [
      "IProgress not found. Please update jupyter and ipywidgets. See https://ipywidgets.readthedocs.io/en/stable/user_install.html\n"
     ]
    },
    {
     "name": "stdout",
     "output_type": "stream",
     "text": [
      "Processing sample 0 to 50\n"
     ]
    },
    {
     "name": "stderr",
     "output_type": "stream",
     "text": [
      "`tf.keras.backend.set_learning_phase` is deprecated and will be removed after 2020-10-11. To update it, simply pass a True/False value to the `training` argument of the `__call__` method of your layer or model.\n"
     ]
    },
    {
     "name": "stdout",
     "output_type": "stream",
     "text": [
      "Processing sample 50 to 100\n",
      "Processing sample 100 to 150\n",
      "Processing sample 150 to 200\n",
      "Processing sample 200 to 250\n",
      "Processing sample 250 to 300\n",
      "Processing sample 300 to 350\n",
      "Processing sample 350 to 400\n",
      "Processing sample 400 to 450\n",
      "Processing sample 450 to 500\n",
      "Processing sample 500 to 550\n",
      "Processing sample 550 to 600\n",
      "Processing sample 600 to 650\n",
      "Processing sample 650 to 700\n"
     ]
    }
   ],
   "source": [
    "import shap\n",
    "import gc\n",
    "\n",
    "explainer = shap.GradientExplainer(unet_model, train_x[:1])\n",
    "num_samples = test_x.shape[0]\n",
    "batch_size = 50\n",
    "all_shap_values = []\n",
    "all_reduced_average_shap_values = []\n",
    "\n",
    "for start_idx in range(0, num_samples, 50):\n",
    "    \n",
    "    end_idx = min(start_idx + batch_size, num_samples)\n",
    "\n",
    "    print(f\"Processing sample {start_idx} to {end_idx}\")\n",
    "    \n",
    "    batch_shap_values = explainer.shap_values(test_x[start_idx:end_idx])\n",
    "\n",
    "    # 计算平均值\n",
    "    average_shap_values = np.sum(batch_shap_values, axis=0)\n",
    "    reduced_average_shap_values = np.mean(average_shap_values, axis=(1, 2))\n",
    "    np.save(f'./unet_average_shap_{start_idx}.npy', reduced_average_shap_values)\n",
    "\n",
    "    # 将结果添加到列表中\n",
    "    all_reduced_average_shap_values.append(reduced_average_shap_values)\n",
    "\n",
    "    # 释放内存\n",
    "    del batch_shap_values\n",
    "    del reduced_average_shap_values\n",
    "\n",
    "# final_shap_values = np.concatenate(all_shap_values, axis=1)\n",
    "final_reduced_sum_shap_values = np.concatenate(all_reduced_average_shap_values, axis=0)\n",
    "# final_average_shap_values = np.mean(all_average_shap_values, axis=0)\n",
    "\n",
    "shap.initjs()"
   ]
  },
  {
   "cell_type": "code",
   "execution_count": null,
   "metadata": {},
   "outputs": [],
   "source": [
    "TITLES = [\n",
    "  'Elevation',\n",
    "  'Wind direction',\n",
    "  'Wind velocity',\n",
    "  'Min temp',\n",
    "  'Max temp',\n",
    "  'Humidity',\n",
    "  'Precip',\n",
    "  'Drought',\n",
    "  'Vegetation',\n",
    "  'Population density',\n",
    "  'Energy release component',\n",
    "  'Previous fire mask',\n",
    "]"
   ]
  },
  {
   "cell_type": "code",
   "execution_count": null,
   "metadata": {},
   "outputs": [
    {
     "data": {
      "image/png": "[encoded data removed]",
      "text/plain": [
       "<Figure size 800x630 with 1 Axes>"
      ]
     },
     "metadata": {},
     "output_type": "display_data"
    }
   ],
   "source": [
    "shap.summary_plot(final_reduced_sum_shap_values, feature_names=TITLES, plot_type='bar')"
   ]
  }
 ],
 "metadata": {
  "kernelspec": {
   "display_name": "IRP-tf-210",
   "language": "python",
   "name": "python3"
  },
  "language_info": {
   "codemirror_mode": {
    "name": "ipython",
    "version": 3
   },
   "file_extension": ".py",
   "mimetype": "text/x-python",
   "name": "python",
   "nbconvert_exporter": "python",
   "pygments_lexer": "ipython3",
   "version": "3.9.16"
  }
 },
 "nbformat": 4,
 "nbformat_minor": 2
}
